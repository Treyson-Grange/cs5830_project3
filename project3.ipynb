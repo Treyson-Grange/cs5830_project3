{
 "cells": [
  {
   "cell_type": "markdown",
   "metadata": {},
   "source": [
    "# Project 3\n",
    "## Team members Arick Smith And Treyson Grange\n",
    "\n",
    "## Ideas\n",
    "\n",
    "- Scrape rolling stones for most mentioned artists\n",
    "- Scrape cooking recipes, find trends in ingredients and how expensive the recipes are\n",
    "- Working with the data creation from UCI mountain Bike world racing data set. (CHOOSEN)\n",
    "\n",
    "\n",
    "## TASKS\n",
    "- need to use the requests, Beautiful Soup, html5lib, and/or API libraries (e.g. Twitter, RottenTomatoes) to get web content.\n",
    "- Your analysis should include at least four techniques that we've discussed in class, and they should all contribute in a meaningful way to telling the story. \n",
    "- Make Project Report\n",
    "- Make Presentation\n",
    "\n"
   ]
  },
  {
   "cell_type": "code",
   "execution_count": 1,
   "metadata": {},
   "outputs": [],
   "source": [
    "# Common imports for the parsing of website data\n",
    "from bs4 import BeautifulSoup\n",
    "import requests\n",
    "import re\n",
    "\n",
    "\n",
    "#Common imports for use in the data visualization\n",
    "import math\n",
    "import matplotlib.pyplot as plt\n",
    "import seaborn as sns\n",
    "import numpy as np\n",
    "import pandas as pd\n",
    "import csv\n",
    "\n",
    "\n",
    "\n"
   ]
  },
  {
   "cell_type": "markdown",
   "metadata": {},
   "source": [
    "Working on the parsing of website data"
   ]
  },
  {
   "cell_type": "code",
   "execution_count": 2,
   "metadata": {},
   "outputs": [
    {
     "name": "stdout",
     "output_type": "stream",
     "text": [
      "<!doctype html>\n",
      "<!-- uci mtb world series -->\n",
      "<html lang=\"\">\n",
      "<head>\n",
      "    <meta charset=\"utf-8\">\n",
      "    <meta name=\"viewport\" content=\"width=device-width, initial-scale=1\">\n",
      "    <meta name=\"csrf-token\" content=\"gbAQDxiozuyOlSpxB0HUkEwkIHdTu07Z0EpdztPM\">\n",
      "\n",
      "    <title>UCI Mountain Bike World Series | Teams</title><meta name=\"description\" content=\"For all the latest news, action and events on the UCI Mountain Bike World Series calendar. Welcome to our UCI Mountain Bike World Series HQ\"><meta name=\"keyword\n"
     ]
    }
   ],
   "source": [
    "call_web = \"https://ucimtbworldseries.com/teams\"\n",
    "\n",
    "site = requests.get(call_web)\n",
    "\n",
    "og_web_html = ''\n",
    "\n",
    "og_web_html = site.text\n",
    "print(og_web_html[:500])"
   ]
  },
  {
   "cell_type": "code",
   "execution_count": 3,
   "metadata": {},
   "outputs": [
    {
     "name": "stdout",
     "output_type": "stream",
     "text": [
      "the total count of teams is likely half this number  392\n"
     ]
    }
   ],
   "source": [
    "team_matches = len(list(re.finditer('/teams/', str(og_web_html))))\n",
    "\n",
    "print(\"the total count of teams is likely half this number \", team_matches)\n",
    "\n"
   ]
  },
  {
   "cell_type": "code",
   "execution_count": 4,
   "metadata": {},
   "outputs": [
    {
     "name": "stdout",
     "output_type": "stream",
     "text": [
      "['https://ucimtbworldseries.com/teams/555-gravity-racing', 'https://ucimtbworldseries.com/teams/abetone-fullout-gravity', 'https://ucimtbworldseries.com/teams/alpecin-deceuninck', 'https://ucimtbworldseries.com/teams/backyard-racing-factory-team', 'https://ucimtbworldseries.com/teams/bad-school-team-cd', 'https://ucimtbworldseries.com/teams/bear-national-team', 'https://ucimtbworldseries.com/teams/berria-vittoria-factory-team', 'https://ucimtbworldseries.com/teams/beyond-racing', 'https://ucimtbworldseries.com/teams/bh-coloma-team', 'https://ucimtbworldseries.com/teams/bh-enduro-racing-team', 'https://ucimtbworldseries.com/teams/bh--wallonie-mtb-team', 'https://ucimtbworldseries.com/teams/bike-team-solothurn', 'https://ucimtbworldseries.com/teams/bixs-performance-race-team', 'https://ucimtbworldseries.com/teams/buff-megamo-team', 'https://ucimtbworldseries.com/teams/caloi-henrique-avancini-racing', 'https://ucimtbworldseries.com/teams/cannondale-enduro', 'https://ucimtbworldseries.com/teams/cannondale-factory-racing', 'https://ucimtbworldseries.com/teams/cannondale-vas-arabay', 'https://ucimtbworldseries.com/teams/canyon-cllctv', 'https://ucimtbworldseries.com/teams/canyon-clltv-dainese', 'https://ucimtbworldseries.com/teams/canyon-collective', 'https://ucimtbworldseries.com/teams/canyon-cllctv-factory-team', 'https://ucimtbworldseries.com/teams/canyon-cllctv-fmd', 'https://ucimtbworldseries.com/teams/canyon-cllctv-pirelli', 'https://ucimtbworldseries.com/teams/canyon-northwave-mtb-team', 'https://ucimtbworldseries.com/teams/ceska-sporitelna---accolade-cycling-team', 'https://ucimtbworldseries.com/teams/chili-racing-brigade', 'https://ucimtbworldseries.com/teams/commencal-/-schwalbe', 'https://ucimtbworldseries.com/teams/commencal-enduro-project', 'https://ucimtbworldseries.com/teams/commencal-ic-process', 'https://ucimtbworldseries.com/teams/commencal-ic-studio', 'https://ucimtbworldseries.com/teams/commencal-les-orres', 'https://ucimtbworldseries.com/teams/commencal-muc-off-by-riding-addiction', 'https://ucimtbworldseries.com/teams/computer-mania-mtb-racing-team', 'https://ucimtbworldseries.com/teams/continental-atherton-', 'https://ucimtbworldseries.com/teams/continental-nukeproof-factory-racing-', 'https://ucimtbworldseries.com/teams/creuse-mainsat-evaux', 'https://ucimtbworldseries.com/teams/cs-carabinieri---cicli-olympia-vittoria', 'https://ucimtbworldseries.com/teams/cube-action-team', 'https://ucimtbworldseries.com/teams/cube-factory-racing', 'https://ucimtbworldseries.com/teams/cube-next-generation-xc', 'https://ucimtbworldseries.com/teams/d2mont-merida', 'https://ucimtbworldseries.com/teams/devinci-global-racing', 'https://ucimtbworldseries.com/teams/dinamo-bikexpert-superbet', 'https://ucimtbworldseries.com/teams/dmt-racing-team-by-a.s.d.-marconi-project%27s-', 'https://ucimtbworldseries.com/teams/dorval-am-commencal', 'https://ucimtbworldseries.com/teams/evolve-racing', 'https://ucimtbworldseries.com/teams/expres-cz---tufo-team-kol%C3%8Dn', 'https://ucimtbworldseries.com/teams/forbidden-synthesis', 'https://ucimtbworldseries.com/teams/foresco-holding-proco-rl-pro-team', 'https://ucimtbworldseries.com/teams/four-es-international-project', 'https://ucimtbworldseries.com/teams/frameworks-racing', 'https://ucimtbworldseries.com/teams/fusion-racing', 'https://ucimtbworldseries.com/teams/gamux-factory-racing', 'https://ucimtbworldseries.com/teams/gapp-system---kolofix-mtb-racing-team', 'https://ucimtbworldseries.com/teams/husqvarna-e-bicycles-racing', 'https://ucimtbworldseries.com/teams/gasgas-sram-racing-', 'https://ucimtbworldseries.com/teams/gen-s', 'https://ucimtbworldseries.com/teams/ghost-factory-racing', 'https://ucimtbworldseries.com/teams/giant-factory-off-road-team---dh', 'https://ucimtbworldseries.com/teams/giant-factory-off-road', 'https://ucimtbworldseries.com/teams/giant-factory-off-road-team---xc', 'https://ucimtbworldseries.com/teams/swiss-enduro-team-by-giant', 'https://ucimtbworldseries.com/teams/gt-factory-racing', 'https://ucimtbworldseries.com/teams/haibike', 'https://ucimtbworldseries.com/teams/hotlines-nukeproof-racing', 'https://ucimtbworldseries.com/teams/hubbers---polimedical-racing-team', 'https://ucimtbworldseries.com/teams/ibis-enduro-team', 'https://ucimtbworldseries.com/teams/ij-racing-chig%C3%9Ciro-extremo-team', 'https://ucimtbworldseries.com/teams/impact--racing-', 'https://ucimtbworldseries.com/teams/ineos-grenadiers', 'https://ucimtbworldseries.com/teams/intense-factory-racing', 'https://ucimtbworldseries.com/teams/jb-brunex-superior-factory-racing', 'https://ucimtbworldseries.com/teams/jbg2', 'https://ucimtbworldseries.com/teams/k-bike', 'https://ucimtbworldseries.com/teams/ka-boom---krapf', 'https://ucimtbworldseries.com/teams/kiwidh', 'https://ucimtbworldseries.com/teams/kmc-mtb-racing-team', 'https://ucimtbworldseries.com/teams/ktm-alchemist-powered-by-brenta-brakes-', 'https://ucimtbworldseries.com/teams/ktm-factory-mtb-team', 'https://ucimtbworldseries.com/teams/ktm-protek-elettrosystem', 'https://ucimtbworldseries.com/teams/la-nucia-bh-coloma-academy', 'https://ucimtbworldseries.com/teams/lapierre-mavic-unity', 'https://ucimtbworldseries.com/teams/lapierre-overvolt-team', 'https://ucimtbworldseries.com/teams/lapierre-zipp-collective', 'https://ucimtbworldseries.com/teams/les-arcs-mountainbike-team', 'https://ucimtbworldseries.com/teams/lexware-mountainbike-team', 'https://ucimtbworldseries.com/teams/liv-factory-racing', 'https://ucimtbworldseries.com/teams/liv-racing', 'https://ucimtbworldseries.com/teams/madison-saracen-factory-team', 'https://ucimtbworldseries.com/teams/massi', 'https://ucimtbworldseries.com/teams/miranda-factory-team', 'https://ucimtbworldseries.com/teams/mmr-factory-racing-team', 'https://ucimtbworldseries.com/teams/mountainbike-racingteam', 'https://ucimtbworldseries.com/teams/ms-mondraker-team', 'https://ucimtbworldseries.com/teams/muc-off-young-guns', 'https://ucimtbworldseries.com/teams/norco-factory-team', 'https://ucimtbworldseries.com/teams/norco-factory-team-1', 'https://ucimtbworldseries.com/teams/ns-bikes-ur-team', 'https://ucimtbworldseries.com/teams/nukeproof-sram-factory-racing', 'https://ucimtbworldseries.com/teams/oolab-team', 'https://ucimtbworldseries.com/teams/orange-factory-racing', 'https://ucimtbworldseries.com/teams/orbea-factory-team', 'https://ucimtbworldseries.com/teams/orbea-fox-enduro-team', 'https://ucimtbworldseries.com/teams/outlaw-united', 'https://ucimtbworldseries.com/teams/pan-american-union-racing', 'https://ucimtbworldseries.com/teams/pinkbike-racing', 'https://ucimtbworldseries.com/teams/pittstop-racing-team', 'https://ucimtbworldseries.com/teams/pivot-cycles---ote', 'https://ucimtbworldseries.com/teams/pivot-factory-racing', 'https://ucimtbworldseries.com/teams/pole-enduro-race-team', 'https://ucimtbworldseries.com/teams/polygon-factory-racing', 'https://ucimtbworldseries.com/teams/primaflor-mondraker-genuins-racing-team', 'https://ucimtbworldseries.com/teams/proefekt-across-team', 'https://ucimtbworldseries.com/teams/propain-factory-enduro', 'https://ucimtbworldseries.com/teams/propain-positive', 'https://ucimtbworldseries.com/teams/pump-for-peace-racing-team', 'https://ucimtbworldseries.com/teams/raaw--levelnine-gravity', 'https://ucimtbworldseries.com/teams/radon-magura-factory-racing', 'https://ucimtbworldseries.com/teams/raw-racing-team', 'https://ucimtbworldseries.com/teams/rbf-racing', 'https://ucimtbworldseries.com/teams/rdn-racing', 'https://ucimtbworldseries.com/teams/rdr-italia-factory-team', 'https://ucimtbworldseries.com/teams/resolute-racing', 'https://ucimtbworldseries.com/teams/rockrider-racing-team', 'https://ucimtbworldseries.com/teams/rockshox-trek-race-team', 'https://ucimtbworldseries.com/teams/rockshox-trek-race-team-1', 'https://ucimtbworldseries.com/teams/rocky-mountain-race-face', 'https://ucimtbworldseries.com/teams/rogue-racing---after-skull-team', 'https://ucimtbworldseries.com/teams/rossignol-factory-team', 'https://ucimtbworldseries.com/teams/rouvy-specialized', 'https://ucimtbworldseries.com/teams/rst-enduro-team', 'https://ucimtbworldseries.com/teams/sakarya-bb-pro-team', 'https://ucimtbworldseries.com/teams/saltoki-conor', 'https://ucimtbworldseries.com/teams/santa-cruz-rockshox-pro-team', 'https://ucimtbworldseries.com/teams/santa-cruz-syndicate', 'https://ucimtbworldseries.com/teams/scott---cala-bandida', 'https://ucimtbworldseries.com/teams/scott-creuse-oxygene-gueret', 'https://ucimtbworldseries.com/teams/scott-davos-mtb-project', 'https://ucimtbworldseries.com/teams/scott-downhill-factory', 'https://ucimtbworldseries.com/teams/scott-racing-team', 'https://ucimtbworldseries.com/teams/scott-sr-suntour-enduro-team', 'https://ucimtbworldseries.com/teams/scott-sram-mtb-racing-team', 'https://ucimtbworldseries.com/teams/sense-factory-racing-', 'https://ucimtbworldseries.com/teams/serneke-allebike-mtb-team', 'https://ucimtbworldseries.com/teams/singer-racing-team', 'https://ucimtbworldseries.com/teams/specialized-racing', 'https://ucimtbworldseries.com/teams/specialized-factory-racing', 'https://ucimtbworldseries.com/teams/specialized-gravity', 'https://ucimtbworldseries.com/teams/blackbox-test-pilot-program', 'https://ucimtbworldseries.com/teams/stop&go-marderabwehr-mtb-team', 'https://ucimtbworldseries.com/teams/str%C3%9Cby-sting', 'https://ucimtbworldseries.com/teams/sunn-french-connexion-by-alpe-dhuez', 'https://ucimtbworldseries.com/teams/sunshine-racers-asv-nals', 'https://ucimtbworldseries.com/teams/synergy-37', 'https://ucimtbworldseries.com/teams/tb-performance-lab---arc8', 'https://ucimtbworldseries.com/teams/team-31-ibis-cycles-continental', 'https://ucimtbworldseries.com/teams/team-bagnol-jo.we-omega', 'https://ucimtbworldseries.com/teams/team-bmc', 'https://ucimtbworldseries.com/teams/team-bulls', 'https://ucimtbworldseries.com/teams/team-bulls-1', 'https://ucimtbworldseries.com/teams/team-dorrong-enduro', 'https://ucimtbworldseries.com/teams/team-high-country', 'https://ucimtbworldseries.com/teams/team-pedale-simplon', 'https://ucimtbworldseries.com/teams/team-performance-cycling', 'https://ucimtbworldseries.com/teams/team-superior-rafalsocks', 'https://ucimtbworldseries.com/teams/team-talley%27s---kiwi-mtb-collective', 'https://ucimtbworldseries.com/teams/team-vosges-ktm', 'https://ucimtbworldseries.com/teams/teamisgav-orbea', 'https://ucimtbworldseries.com/teams/the-alliance-', 'https://ucimtbworldseries.com/teams/the-gravity-academy', 'https://ucimtbworldseries.com/teams/theory-racing-pb-probikekit', 'https://ucimtbworldseries.com/teams/th%C3%96mus-akros---youngstars', 'https://ucimtbworldseries.com/teams/th%C3%96mus-maxon', 'https://ucimtbworldseries.com/teams/torpado-factory-team', 'https://ucimtbworldseries.com/teams/transition-factory-racing', 'https://ucimtbworldseries.com/teams/trek-factory-racing', 'https://ucimtbworldseries.com/teams/trek-factory-racing-xc', 'https://ucimtbworldseries.com/teams/trek-future-racing', 'https://ucimtbworldseries.com/teams/tribe-pyrenees-gravity', 'https://ucimtbworldseries.com/teams/trinity-racing-mtb', 'https://ucimtbworldseries.com/teams/trinx-factory-team', 'https://ucimtbworldseries.com/teams/union---forged-by-steel-city-media', 'https://ucimtbworldseries.com/teams/unior-sinter-factory-racing', 'https://ucimtbworldseries.com/teams/unno-racing-', 'https://ucimtbworldseries.com/teams/varberg-mountainbike-team', 'https://ucimtbworldseries.com/teams/vca-anjos-ktm', 'https://ucimtbworldseries.com/teams/watersley-r+d-offroad-team', 'https://ucimtbworldseries.com/teams/weride-racing-team', 'https://ucimtbworldseries.com/teams/fulgur-factory-team', 'https://ucimtbworldseries.com/teams/wilier---pirelli-factory-team-xco', 'https://ucimtbworldseries.com/teams/wilier-pirelli-factory-team-mx-', 'https://ucimtbworldseries.com/teams/x-sauce-factory-team', 'https://ucimtbworldseries.com/teams/yeti--fox-factory-team', 'https://ucimtbworldseries.com/teams/yt-industries', 'https://ucimtbworldseries.com/teams/zerouno-factory-racing']\n",
      "196\n"
     ]
    }
   ],
   "source": [
    "soup = BeautifulSoup(og_web_html)\n",
    "\n",
    "\n",
    "#Using the same code as the inclass example I found that the items classed as flex-shrink-0 would have our hyperlinks\n",
    "teams = [a['href'] for div in soup.find_all('div', {'class':'flex-shrink-0'}) for a in div.find_all('a')]\n",
    "# Removing the home dir\n",
    "teams.remove('/')\n",
    "print(teams)\n",
    "print(len(teams))\n",
    "\n",
    "#There are a total of 196 teams involved\n"
   ]
  },
  {
   "cell_type": "code",
   "execution_count": 11,
   "metadata": {},
   "outputs": [
    {
     "data": {
      "text/plain": [
       "['https://ucimtbworldseries.com/athletes/56172',\n",
       " 'https://ucimtbworldseries.com/athletes/56173',\n",
       " 'https://ucimtbworldseries.com/athletes/56174']"
      ]
     },
     "execution_count": 11,
     "metadata": {},
     "output_type": "execute_result"
    }
   ],
   "source": [
    "#Going to enter each team and make a compilition of the members that compose it (Getting each url to a team member)\n",
    "players_links = []\n",
    "\n",
    "for team in teams[:1]:\n",
    "    cur_team = requests.get(team)\n",
    "    if cur_team.status_code == 200:\n",
    "        sur_team_text = cur_team.text\n",
    "\n",
    "        team_soup = BeautifulSoup(sur_team_text)\n",
    "\n",
    "        current_links = [a['href'] for div in team_soup.find_all('div', {'id':'team-riders'}) for a in div.find_all('a')]\n",
    "\n",
    "        #Breaking apart links to have in one massive player link list\n",
    "        for i in current_links:\n",
    "            players_links.append(i)\n",
    "\n",
    "#All player links\n",
    "players_links\n"
   ]
  },
  {
   "cell_type": "code",
   "execution_count": null,
   "metadata": {},
   "outputs": [],
   "source": [
    "#The following will create a rider entry to a csv file\n",
    "#This will contain a few of the following peices of data: NAME,AGE,NATIONALITY,CATEGORY, etc...\n",
    "with open('riders.csv', 'w', neweline='') as csvfile:\n",
    "    filewriter = csv.writer(csvfile, delimiter=',')\n",
    "    filewriter.writerow(['Name', 'Age', 'Nationality', 'Category', 'Formats', 'AVG_Place', 'TTL_First', 'TTL_Top_Ten', 'TTL_Races_2023', 'AVG_T_Behind_First', 'XCOWCP', 'XCCWCP'])\n",
    "    \n",
    "    for rider in players_links[:1]:\n",
    "        cur_rider = requests.get(rider)\n",
    "        if cur_rider.status_code == 200:\n",
    "            cur_rider_html = cur_rider.text\n",
    "            rider_soup = BeautifulSoup(cur_rider_html)\n",
    "\n",
    "            \n",
    "    "
   ]
  }
 ],
 "metadata": {
  "kernelspec": {
   "display_name": "Python 3",
   "language": "python",
   "name": "python3"
  },
  "language_info": {
   "codemirror_mode": {
    "name": "ipython",
    "version": 3
   },
   "file_extension": ".py",
   "mimetype": "text/x-python",
   "name": "python",
   "nbconvert_exporter": "python",
   "pygments_lexer": "ipython3",
   "version": "3.11.1"
  }
 },
 "nbformat": 4,
 "nbformat_minor": 2
}
